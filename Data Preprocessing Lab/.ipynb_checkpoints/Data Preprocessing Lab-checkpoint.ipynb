{
 "cells": [
  {
   "cell_type": "markdown",
   "id": "783d38af",
   "metadata": {},
   "source": [
    "\n",
    "## Data Preprocessing - Delhi House Price Prediction\n",
    "\n",
    "To apply basic methods for data analysis and data preprocessing for Delhi House Price Dataset"
   ]
  },
  {
   "cell_type": "code",
   "execution_count": 1,
   "id": "8fb43935",
   "metadata": {},
   "outputs": [],
   "source": [
    "# import libraries\n",
    "import numpy as np\n",
    "import matplotlib.pyplot as plt\n",
    "import pandas as pd\n",
    "import seaborn as sns"
   ]
  },
  {
   "cell_type": "markdown",
   "id": "672e68f4",
   "metadata": {},
   "source": [
    "### 1. Data Analysis\n"
   ]
  },
  {
   "cell_type": "markdown",
   "id": "325227ad",
   "metadata": {},
   "source": [
    "#### Q1. Load the data from CSV file. Display the first 10 rows and the last 10 rows of the dataset."
   ]
  },
  {
   "cell_type": "code",
   "execution_count": 9,
   "id": "fc54639a",
   "metadata": {},
   "outputs": [
    {
     "data": {
      "text/html": [
       "<div>\n",
       "<style scoped>\n",
       "    .dataframe tbody tr th:only-of-type {\n",
       "        vertical-align: middle;\n",
       "    }\n",
       "\n",
       "    .dataframe tbody tr th {\n",
       "        vertical-align: top;\n",
       "    }\n",
       "\n",
       "    .dataframe thead th {\n",
       "        text-align: right;\n",
       "    }\n",
       "</style>\n",
       "<table border=\"1\" class=\"dataframe\">\n",
       "  <thead>\n",
       "    <tr style=\"text-align: right;\">\n",
       "      <th></th>\n",
       "      <th>Area</th>\n",
       "      <th>BHK</th>\n",
       "      <th>Bathroom</th>\n",
       "      <th>Furnishing</th>\n",
       "      <th>Locality</th>\n",
       "      <th>Parking</th>\n",
       "      <th>Price</th>\n",
       "      <th>Status</th>\n",
       "      <th>Transaction</th>\n",
       "      <th>Type</th>\n",
       "      <th>Per_Sqft</th>\n",
       "    </tr>\n",
       "  </thead>\n",
       "  <tbody>\n",
       "    <tr>\n",
       "      <th>0</th>\n",
       "      <td>800.0</td>\n",
       "      <td>3</td>\n",
       "      <td>2.0</td>\n",
       "      <td>Semi-Furnished</td>\n",
       "      <td>Rohini Sector 25</td>\n",
       "      <td>1.0</td>\n",
       "      <td>6500000</td>\n",
       "      <td>Ready_to_move</td>\n",
       "      <td>New_Property</td>\n",
       "      <td>Builder_Floor</td>\n",
       "      <td>NaN</td>\n",
       "    </tr>\n",
       "    <tr>\n",
       "      <th>1</th>\n",
       "      <td>750.0</td>\n",
       "      <td>2</td>\n",
       "      <td>2.0</td>\n",
       "      <td>Semi-Furnished</td>\n",
       "      <td>J R Designers Floors, Rohini Sector 24</td>\n",
       "      <td>1.0</td>\n",
       "      <td>5000000</td>\n",
       "      <td>Ready_to_move</td>\n",
       "      <td>New_Property</td>\n",
       "      <td>Apartment</td>\n",
       "      <td>6667.0</td>\n",
       "    </tr>\n",
       "    <tr>\n",
       "      <th>2</th>\n",
       "      <td>950.0</td>\n",
       "      <td>2</td>\n",
       "      <td>2.0</td>\n",
       "      <td>Furnished</td>\n",
       "      <td>Citizen Apartment, Rohini Sector 13</td>\n",
       "      <td>1.0</td>\n",
       "      <td>15500000</td>\n",
       "      <td>Ready_to_move</td>\n",
       "      <td>Resale</td>\n",
       "      <td>Apartment</td>\n",
       "      <td>6667.0</td>\n",
       "    </tr>\n",
       "    <tr>\n",
       "      <th>3</th>\n",
       "      <td>600.0</td>\n",
       "      <td>2</td>\n",
       "      <td>2.0</td>\n",
       "      <td>Semi-Furnished</td>\n",
       "      <td>Rohini Sector 24</td>\n",
       "      <td>1.0</td>\n",
       "      <td>4200000</td>\n",
       "      <td>Ready_to_move</td>\n",
       "      <td>Resale</td>\n",
       "      <td>Builder_Floor</td>\n",
       "      <td>6667.0</td>\n",
       "    </tr>\n",
       "    <tr>\n",
       "      <th>4</th>\n",
       "      <td>650.0</td>\n",
       "      <td>2</td>\n",
       "      <td>2.0</td>\n",
       "      <td>Semi-Furnished</td>\n",
       "      <td>Rohini Sector 24 carpet area 650 sqft status R...</td>\n",
       "      <td>1.0</td>\n",
       "      <td>6200000</td>\n",
       "      <td>Ready_to_move</td>\n",
       "      <td>New_Property</td>\n",
       "      <td>Builder_Floor</td>\n",
       "      <td>6667.0</td>\n",
       "    </tr>\n",
       "    <tr>\n",
       "      <th>5</th>\n",
       "      <td>1300.0</td>\n",
       "      <td>4</td>\n",
       "      <td>3.0</td>\n",
       "      <td>Semi-Furnished</td>\n",
       "      <td>Rohini Sector 24</td>\n",
       "      <td>1.0</td>\n",
       "      <td>15500000</td>\n",
       "      <td>Ready_to_move</td>\n",
       "      <td>New_Property</td>\n",
       "      <td>Builder_Floor</td>\n",
       "      <td>6667.0</td>\n",
       "    </tr>\n",
       "    <tr>\n",
       "      <th>6</th>\n",
       "      <td>1350.0</td>\n",
       "      <td>4</td>\n",
       "      <td>3.0</td>\n",
       "      <td>Semi-Furnished</td>\n",
       "      <td>Rohini Sector 24</td>\n",
       "      <td>1.0</td>\n",
       "      <td>10000000</td>\n",
       "      <td>Ready_to_move</td>\n",
       "      <td>Resale</td>\n",
       "      <td>Builder_Floor</td>\n",
       "      <td>6667.0</td>\n",
       "    </tr>\n",
       "    <tr>\n",
       "      <th>7</th>\n",
       "      <td>650.0</td>\n",
       "      <td>2</td>\n",
       "      <td>2.0</td>\n",
       "      <td>Semi-Furnished</td>\n",
       "      <td>Delhi Homes, Rohini Sector 24</td>\n",
       "      <td>1.0</td>\n",
       "      <td>4000000</td>\n",
       "      <td>Ready_to_move</td>\n",
       "      <td>New_Property</td>\n",
       "      <td>Apartment</td>\n",
       "      <td>6154.0</td>\n",
       "    </tr>\n",
       "    <tr>\n",
       "      <th>8</th>\n",
       "      <td>985.0</td>\n",
       "      <td>3</td>\n",
       "      <td>3.0</td>\n",
       "      <td>Unfurnished</td>\n",
       "      <td>Rohini Sector 21</td>\n",
       "      <td>1.0</td>\n",
       "      <td>6800000</td>\n",
       "      <td>Almost_ready</td>\n",
       "      <td>New_Property</td>\n",
       "      <td>Builder_Floor</td>\n",
       "      <td>6154.0</td>\n",
       "    </tr>\n",
       "    <tr>\n",
       "      <th>9</th>\n",
       "      <td>1300.0</td>\n",
       "      <td>4</td>\n",
       "      <td>4.0</td>\n",
       "      <td>Semi-Furnished</td>\n",
       "      <td>Rohini Sector 22</td>\n",
       "      <td>1.0</td>\n",
       "      <td>15000000</td>\n",
       "      <td>Ready_to_move</td>\n",
       "      <td>New_Property</td>\n",
       "      <td>Builder_Floor</td>\n",
       "      <td>6154.0</td>\n",
       "    </tr>\n",
       "  </tbody>\n",
       "</table>\n",
       "</div>"
      ],
      "text/plain": [
       "     Area  BHK  Bathroom      Furnishing  \\\n",
       "0   800.0    3       2.0  Semi-Furnished   \n",
       "1   750.0    2       2.0  Semi-Furnished   \n",
       "2   950.0    2       2.0       Furnished   \n",
       "3   600.0    2       2.0  Semi-Furnished   \n",
       "4   650.0    2       2.0  Semi-Furnished   \n",
       "5  1300.0    4       3.0  Semi-Furnished   \n",
       "6  1350.0    4       3.0  Semi-Furnished   \n",
       "7   650.0    2       2.0  Semi-Furnished   \n",
       "8   985.0    3       3.0     Unfurnished   \n",
       "9  1300.0    4       4.0  Semi-Furnished   \n",
       "\n",
       "                                            Locality  Parking     Price  \\\n",
       "0                                   Rohini Sector 25      1.0   6500000   \n",
       "1             J R Designers Floors, Rohini Sector 24      1.0   5000000   \n",
       "2                Citizen Apartment, Rohini Sector 13      1.0  15500000   \n",
       "3                                   Rohini Sector 24      1.0   4200000   \n",
       "4  Rohini Sector 24 carpet area 650 sqft status R...      1.0   6200000   \n",
       "5                                   Rohini Sector 24      1.0  15500000   \n",
       "6                                   Rohini Sector 24      1.0  10000000   \n",
       "7                      Delhi Homes, Rohini Sector 24      1.0   4000000   \n",
       "8                                   Rohini Sector 21      1.0   6800000   \n",
       "9                                   Rohini Sector 22      1.0  15000000   \n",
       "\n",
       "          Status   Transaction           Type  Per_Sqft  \n",
       "0  Ready_to_move  New_Property  Builder_Floor       NaN  \n",
       "1  Ready_to_move  New_Property      Apartment    6667.0  \n",
       "2  Ready_to_move        Resale      Apartment    6667.0  \n",
       "3  Ready_to_move        Resale  Builder_Floor    6667.0  \n",
       "4  Ready_to_move  New_Property  Builder_Floor    6667.0  \n",
       "5  Ready_to_move  New_Property  Builder_Floor    6667.0  \n",
       "6  Ready_to_move        Resale  Builder_Floor    6667.0  \n",
       "7  Ready_to_move  New_Property      Apartment    6154.0  \n",
       "8   Almost_ready  New_Property  Builder_Floor    6154.0  \n",
       "9  Ready_to_move  New_Property  Builder_Floor    6154.0  "
      ]
     },
     "execution_count": 9,
     "metadata": {},
     "output_type": "execute_result"
    }
   ],
   "source": [
    "#write your code here\n",
    "df = pd.read_csv('MagicBricks.csv')\n",
    "\n",
    "df.head(10)"
   ]
  },
  {
   "cell_type": "code",
   "execution_count": 8,
   "id": "9013b202",
   "metadata": {},
   "outputs": [
    {
     "data": {
      "text/html": [
       "<div>\n",
       "<style scoped>\n",
       "    .dataframe tbody tr th:only-of-type {\n",
       "        vertical-align: middle;\n",
       "    }\n",
       "\n",
       "    .dataframe tbody tr th {\n",
       "        vertical-align: top;\n",
       "    }\n",
       "\n",
       "    .dataframe thead th {\n",
       "        text-align: right;\n",
       "    }\n",
       "</style>\n",
       "<table border=\"1\" class=\"dataframe\">\n",
       "  <thead>\n",
       "    <tr style=\"text-align: right;\">\n",
       "      <th></th>\n",
       "      <th>Area</th>\n",
       "      <th>BHK</th>\n",
       "      <th>Bathroom</th>\n",
       "      <th>Furnishing</th>\n",
       "      <th>Locality</th>\n",
       "      <th>Parking</th>\n",
       "      <th>Price</th>\n",
       "      <th>Status</th>\n",
       "      <th>Transaction</th>\n",
       "      <th>Type</th>\n",
       "      <th>Per_Sqft</th>\n",
       "    </tr>\n",
       "  </thead>\n",
       "  <tbody>\n",
       "    <tr>\n",
       "      <th>1249</th>\n",
       "      <td>1900.0</td>\n",
       "      <td>3</td>\n",
       "      <td>4.0</td>\n",
       "      <td>Semi-Furnished</td>\n",
       "      <td>Chittaranjan Park</td>\n",
       "      <td>2.0</td>\n",
       "      <td>28500000</td>\n",
       "      <td>Ready_to_move</td>\n",
       "      <td>New_Property</td>\n",
       "      <td>Builder_Floor</td>\n",
       "      <td>6878.0</td>\n",
       "    </tr>\n",
       "    <tr>\n",
       "      <th>1250</th>\n",
       "      <td>1800.0</td>\n",
       "      <td>3</td>\n",
       "      <td>3.0</td>\n",
       "      <td>Semi-Furnished</td>\n",
       "      <td>Chittaranjan Park</td>\n",
       "      <td>2.0</td>\n",
       "      <td>29000000</td>\n",
       "      <td>Ready_to_move</td>\n",
       "      <td>Resale</td>\n",
       "      <td>Builder_Floor</td>\n",
       "      <td>6878.0</td>\n",
       "    </tr>\n",
       "    <tr>\n",
       "      <th>1251</th>\n",
       "      <td>1200.0</td>\n",
       "      <td>3</td>\n",
       "      <td>2.0</td>\n",
       "      <td>Semi-Furnished</td>\n",
       "      <td>Chittaranjan Park</td>\n",
       "      <td>1.0</td>\n",
       "      <td>15500000</td>\n",
       "      <td>Ready_to_move</td>\n",
       "      <td>Resale</td>\n",
       "      <td>Builder_Floor</td>\n",
       "      <td>12916.0</td>\n",
       "    </tr>\n",
       "    <tr>\n",
       "      <th>1252</th>\n",
       "      <td>1800.0</td>\n",
       "      <td>3</td>\n",
       "      <td>3.0</td>\n",
       "      <td>Semi-Furnished</td>\n",
       "      <td>Nehru Enclave, Kalkaji</td>\n",
       "      <td>1.0</td>\n",
       "      <td>26000000</td>\n",
       "      <td>Ready_to_move</td>\n",
       "      <td>Resale</td>\n",
       "      <td>Builder_Floor</td>\n",
       "      <td>12916.0</td>\n",
       "    </tr>\n",
       "    <tr>\n",
       "      <th>1253</th>\n",
       "      <td>1200.0</td>\n",
       "      <td>3</td>\n",
       "      <td>3.0</td>\n",
       "      <td>Semi-Furnished</td>\n",
       "      <td>Chittaranjan Park</td>\n",
       "      <td>1.0</td>\n",
       "      <td>16500000</td>\n",
       "      <td>Ready_to_move</td>\n",
       "      <td>Resale</td>\n",
       "      <td>Builder_Floor</td>\n",
       "      <td>12916.0</td>\n",
       "    </tr>\n",
       "    <tr>\n",
       "      <th>1254</th>\n",
       "      <td>4118.0</td>\n",
       "      <td>4</td>\n",
       "      <td>5.0</td>\n",
       "      <td>Unfurnished</td>\n",
       "      <td>Chittaranjan Park</td>\n",
       "      <td>3.0</td>\n",
       "      <td>55000000</td>\n",
       "      <td>Ready_to_move</td>\n",
       "      <td>New_Property</td>\n",
       "      <td>Builder_Floor</td>\n",
       "      <td>12916.0</td>\n",
       "    </tr>\n",
       "    <tr>\n",
       "      <th>1255</th>\n",
       "      <td>1050.0</td>\n",
       "      <td>3</td>\n",
       "      <td>2.0</td>\n",
       "      <td>Semi-Furnished</td>\n",
       "      <td>Chittaranjan Park</td>\n",
       "      <td>3.0</td>\n",
       "      <td>12500000</td>\n",
       "      <td>Ready_to_move</td>\n",
       "      <td>Resale</td>\n",
       "      <td>Builder_Floor</td>\n",
       "      <td>12916.0</td>\n",
       "    </tr>\n",
       "    <tr>\n",
       "      <th>1256</th>\n",
       "      <td>875.0</td>\n",
       "      <td>3</td>\n",
       "      <td>3.0</td>\n",
       "      <td>Semi-Furnished</td>\n",
       "      <td>Chittaranjan Park</td>\n",
       "      <td>3.0</td>\n",
       "      <td>17500000</td>\n",
       "      <td>Ready_to_move</td>\n",
       "      <td>New_Property</td>\n",
       "      <td>Builder_Floor</td>\n",
       "      <td>12916.0</td>\n",
       "    </tr>\n",
       "    <tr>\n",
       "      <th>1257</th>\n",
       "      <td>990.0</td>\n",
       "      <td>2</td>\n",
       "      <td>2.0</td>\n",
       "      <td>Unfurnished</td>\n",
       "      <td>Chittaranjan Park Block A</td>\n",
       "      <td>1.0</td>\n",
       "      <td>11500000</td>\n",
       "      <td>Ready_to_move</td>\n",
       "      <td>Resale</td>\n",
       "      <td>Builder_Floor</td>\n",
       "      <td>12916.0</td>\n",
       "    </tr>\n",
       "    <tr>\n",
       "      <th>1258</th>\n",
       "      <td>11050.0</td>\n",
       "      <td>3</td>\n",
       "      <td>3.0</td>\n",
       "      <td>Unfurnished</td>\n",
       "      <td>Chittaranjan Park</td>\n",
       "      <td>1.0</td>\n",
       "      <td>18500000</td>\n",
       "      <td>Ready_to_move</td>\n",
       "      <td>New_Property</td>\n",
       "      <td>Builder_Floor</td>\n",
       "      <td>12916.0</td>\n",
       "    </tr>\n",
       "  </tbody>\n",
       "</table>\n",
       "</div>"
      ],
      "text/plain": [
       "         Area  BHK  Bathroom      Furnishing                   Locality  \\\n",
       "1249   1900.0    3       4.0  Semi-Furnished          Chittaranjan Park   \n",
       "1250   1800.0    3       3.0  Semi-Furnished          Chittaranjan Park   \n",
       "1251   1200.0    3       2.0  Semi-Furnished          Chittaranjan Park   \n",
       "1252   1800.0    3       3.0  Semi-Furnished     Nehru Enclave, Kalkaji   \n",
       "1253   1200.0    3       3.0  Semi-Furnished          Chittaranjan Park   \n",
       "1254   4118.0    4       5.0     Unfurnished          Chittaranjan Park   \n",
       "1255   1050.0    3       2.0  Semi-Furnished          Chittaranjan Park   \n",
       "1256    875.0    3       3.0  Semi-Furnished          Chittaranjan Park   \n",
       "1257    990.0    2       2.0     Unfurnished  Chittaranjan Park Block A   \n",
       "1258  11050.0    3       3.0     Unfurnished          Chittaranjan Park   \n",
       "\n",
       "      Parking     Price         Status   Transaction           Type  Per_Sqft  \n",
       "1249      2.0  28500000  Ready_to_move  New_Property  Builder_Floor    6878.0  \n",
       "1250      2.0  29000000  Ready_to_move        Resale  Builder_Floor    6878.0  \n",
       "1251      1.0  15500000  Ready_to_move        Resale  Builder_Floor   12916.0  \n",
       "1252      1.0  26000000  Ready_to_move        Resale  Builder_Floor   12916.0  \n",
       "1253      1.0  16500000  Ready_to_move        Resale  Builder_Floor   12916.0  \n",
       "1254      3.0  55000000  Ready_to_move  New_Property  Builder_Floor   12916.0  \n",
       "1255      3.0  12500000  Ready_to_move        Resale  Builder_Floor   12916.0  \n",
       "1256      3.0  17500000  Ready_to_move  New_Property  Builder_Floor   12916.0  \n",
       "1257      1.0  11500000  Ready_to_move        Resale  Builder_Floor   12916.0  \n",
       "1258      1.0  18500000  Ready_to_move  New_Property  Builder_Floor   12916.0  "
      ]
     },
     "execution_count": 8,
     "metadata": {},
     "output_type": "execute_result"
    }
   ],
   "source": [
    "df.tail(10)"
   ]
  },
  {
   "cell_type": "markdown",
   "id": "bc38bd8d",
   "metadata": {},
   "source": [
    "#### Q2. Which fields are numerical and which fields are categorical data? which attributes are input variables and which attribute is output variable?"
   ]
  },
  {
   "cell_type": "code",
   "execution_count": 13,
   "id": "1e6417d8",
   "metadata": {},
   "outputs": [
    {
     "name": "stdout",
     "output_type": "stream",
     "text": [
      "Numerical Columns: ['Area', 'BHK', 'Bathroom', 'Parking', 'Price', 'Per_Sqft']\n",
      "Categorical Columns: ['Furnishing', 'Locality', 'Status', 'Transaction', 'Type']\n",
      "Input Variables: ['Area', 'BHK', 'Bathroom', 'Furnishing', 'Locality', 'Parking', 'Status', 'Transaction', 'Type', 'Per_Sqft']\n",
      "Output Variable: Price\n"
     ]
    }
   ],
   "source": [
    "#write your code here\n",
    "df.dtypes\n",
    "\n",
    "numerical_columns = df.select_dtypes(include=['int64', 'float64']).columns.tolist()\n",
    "categorical_columns = df.select_dtypes(include=['object']).columns.tolist()\n",
    "\n",
    "print(\"Numerical Columns:\", numerical_columns)\n",
    "print(\"Categorical Columns:\", categorical_columns)\n",
    "\n",
    "target_variable = 'Price'  \n",
    "\n",
    "input_variables = df.columns.tolist()\n",
    "input_variables.remove(target_variable)\n",
    "\n",
    "print(\"Input Variables:\", input_variables)\n",
    "print(\"Output Variable:\", target_variable)"
   ]
  },
  {
   "cell_type": "markdown",
   "id": "9053b8e0",
   "metadata": {},
   "source": [
    "#### Q3. Display summary and statistics information (both numerical and categorical data) of the dataset. What do you know from this information?"
   ]
  },
  {
   "cell_type": "code",
   "execution_count": 16,
   "id": "11526d34",
   "metadata": {},
   "outputs": [
    {
     "name": "stdout",
     "output_type": "stream",
     "text": [
      "First Few Rows of the Dataset:\n",
      "    Area  BHK  Bathroom      Furnishing  \\\n",
      "0  800.0    3       2.0  Semi-Furnished   \n",
      "1  750.0    2       2.0  Semi-Furnished   \n",
      "2  950.0    2       2.0       Furnished   \n",
      "3  600.0    2       2.0  Semi-Furnished   \n",
      "4  650.0    2       2.0  Semi-Furnished   \n",
      "\n",
      "                                            Locality  Parking     Price  \\\n",
      "0                                   Rohini Sector 25      1.0   6500000   \n",
      "1             J R Designers Floors, Rohini Sector 24      1.0   5000000   \n",
      "2                Citizen Apartment, Rohini Sector 13      1.0  15500000   \n",
      "3                                   Rohini Sector 24      1.0   4200000   \n",
      "4  Rohini Sector 24 carpet area 650 sqft status R...      1.0   6200000   \n",
      "\n",
      "          Status   Transaction           Type  Per_Sqft  \n",
      "0  Ready_to_move  New_Property  Builder_Floor       NaN  \n",
      "1  Ready_to_move  New_Property      Apartment    6667.0  \n",
      "2  Ready_to_move        Resale      Apartment    6667.0  \n",
      "3  Ready_to_move        Resale  Builder_Floor    6667.0  \n",
      "4  Ready_to_move  New_Property  Builder_Floor    6667.0  \n",
      "\n",
      "Summary Statistics for Numerical Data:\n",
      "               Area          BHK     Bathroom      Parking         Price  \\\n",
      "count   1259.000000  1259.000000  1257.000000  1226.000000  1.259000e+03   \n",
      "mean    1466.452724     2.796664     2.556086     1.935563  2.130670e+07   \n",
      "std     1568.055040     0.954425     1.042220     6.279212  2.560115e+07   \n",
      "min       28.000000     1.000000     1.000000     1.000000  1.000000e+06   \n",
      "25%      800.000000     2.000000     2.000000     1.000000  5.700000e+06   \n",
      "50%     1200.000000     3.000000     2.000000     1.000000  1.420000e+07   \n",
      "75%     1700.000000     3.000000     3.000000     2.000000  2.550000e+07   \n",
      "max    24300.000000    10.000000     7.000000   114.000000  2.400000e+08   \n",
      "\n",
      "            Per_Sqft  \n",
      "count    1018.000000  \n",
      "mean    15690.136542  \n",
      "std     21134.738568  \n",
      "min      1259.000000  \n",
      "25%      6364.000000  \n",
      "50%     11291.500000  \n",
      "75%     18000.000000  \n",
      "max    183333.000000  \n",
      "\n",
      "Summary Statistics for Categorical Data:\n",
      "            Furnishing        Locality         Status Transaction  \\\n",
      "count             1254            1259           1259        1259   \n",
      "unique               3             365              2           2   \n",
      "top     Semi-Furnished  Lajpat Nagar 3  Ready_to_move      Resale   \n",
      "freq               708              34           1184         781   \n",
      "\n",
      "                 Type  \n",
      "count            1254  \n",
      "unique              2  \n",
      "top     Builder_Floor  \n",
      "freq              661  \n",
      "\n",
      "Value counts for Furnishing:\n",
      "Furnishing\n",
      "Semi-Furnished    708\n",
      "Unfurnished       363\n",
      "Furnished         183\n",
      "Name: count, dtype: int64\n",
      "\n",
      "Value counts for Locality:\n",
      "Locality\n",
      "Lajpat Nagar 3                                                                                                                                                                                                                                                                                                                                                                                                                                                                                                                                                                                                                                  34\n",
      "Lajpat Nagar 2                                                                                                                                                                                                                                                                                                                                                                                                                                                                                                                                                                                                                                  33\n",
      "J R Designers Floors, Rohini Sector 24                                                                                                                                                                                                                                                                                                                                                                                                                                                                                                                                                                                                          31\n",
      "Kailash Colony, Greater Kailash                                                                                                                                                                                                                                                                                                                                                                                                                                                                                                                                                                                                                 30\n",
      "Yamuna Vihar, Shahdara                                                                                                                                                                                                                                                                                                                                                                                                                                                                                                                                                                                                                          29\n",
      "                                                                                                                                                                                                                                                                                                                                                                                                                                                                                                                                                                                                                                                ..\n",
      "Safdarjung Enclave carpet area 3250 sqft status Ready to Move floor 1 out of 4 floors transaction Resale furnishing Semi-Furnished facing North - East overlooking Garden/Park, Main Road car parking 1 Covered bathroom 4 balcony 3 ownership Freehold Near Buy Green park Metro station. The location of the property is Awesome and Peaceful. The construction is very Highend and Very tasteful Done-up. The Same property is location on the FF. 4 Side corner read more Contact Agent Enquire Now Share Feedback Crisil Silver Agent Findahouse Real Estate Consultants LLP 2000+ Buyers Served                                            1\n",
      "Safdarjung Enclave carpet area 290 sqyrd status Ready to Move floor 2 out of 3 floors transaction Resale furnishing Semi-Furnished facing West overlooking Main Road car parking 2 Open bathroom 4 balcony 3 ownership Freehold Opposite Deer Park.The property comes with independent Terrace. The area is centrally located and close to ring road which allows easy acess to all other areas.Renowned Delhi Lawn Tennis Association is within 10 minutes walking distance.Green park market is walkable distance. read more Contact Owner View Phone No. Share Feedback Owner Hemant pajankar                                                 1\n",
      "Safdarjung Enclave carpet area 1450 sqft status Ready to Move floor 3 out of 4 floors transaction Resale furnishing Semi-Furnished facing North - East overlooking Garden/Park, Main Road car parking 1 Covered, 1 Open bathroom 3 balcony 2 ownership Freehold Park facing builder floor apartment available for sale in safderjung enclave, 3 bedroom with attached bathroom, drawing dinning, modular kitchen. the property is on the top floor of a four storey building with terrace right, servant quarter, 1 car parking in stilt. read more Contact Agent View Phone No. Share Feedback Agent Delhi Homes Realty 1000+ Buyers Served     1\n",
      "Safdarjung Enclave super area 2200 sqft status Ready to Move floor 2 out of 4 floors transaction New Property furnishing Semi-Furnished facing South overlooking Main Road car parking 3 Covered, 2 Open bathroom 4 balcony 3 ownership Freehold Newly Constructed Property Wide Road 450 Yards 2nd floor brand new 4 bhk attached bathrooms with full lighted and ventilated house.Most Valuable DealSEE TO BELIEVE read more Contact Agent View Phone No. Share Feedback Crisil Bronze Agent Panchsheel Homes 500+ Buyers Served                                                                                                               1\n",
      "Chittaranjan Park Block A                                                                                                                                                                                                                                                                                                                                                                                                                                                                                                                                                                                                                        1\n",
      "Name: count, Length: 365, dtype: int64\n",
      "\n",
      "Value counts for Status:\n",
      "Status\n",
      "Ready_to_move    1184\n",
      "Almost_ready       75\n",
      "Name: count, dtype: int64\n",
      "\n",
      "Value counts for Transaction:\n",
      "Transaction\n",
      "Resale          781\n",
      "New_Property    478\n",
      "Name: count, dtype: int64\n",
      "\n",
      "Value counts for Type:\n",
      "Type\n",
      "Builder_Floor    661\n",
      "Apartment        593\n",
      "Name: count, dtype: int64\n"
     ]
    }
   ],
   "source": [
    "#write your code here\n",
    "print(\"First Few Rows of the Dataset:\")\n",
    "print(df.head())\n",
    "\n",
    "numerical_summary = df.describe()\n",
    "print(\"\\nSummary Statistics for Numerical Data:\")\n",
    "print(numerical_summary)\n",
    "\n",
    "categorical_summary = df.describe(include=['object'])\n",
    "print(\"\\nSummary Statistics for Categorical Data:\")\n",
    "print(categorical_summary)\n",
    "\n",
    "for col in categorical_summary.columns:\n",
    "    print(f\"\\nValue counts for {col}:\")\n",
    "    print(df[col].value_counts())"
   ]
  },
  {
   "cell_type": "markdown",
   "id": "28640149",
   "metadata": {},
   "source": [
    "#### Q4. Choose a few numerical and categorical fields and visualize their data using the appropriate graphs (i.e. histogram, boxplot, bar chart and pie chart). What do you know from the graphs?"
   ]
  },
  {
   "cell_type": "code",
   "execution_count": null,
   "id": "e1491e10",
   "metadata": {},
   "outputs": [],
   "source": [
    "#write your code here"
   ]
  },
  {
   "cell_type": "markdown",
   "id": "c4b12da0",
   "metadata": {},
   "source": [
    "#### Q5. Compute Pearson correlation coefficient between numerical variables. Plot the correlation coefficients on heat map. Describe the information from the coefficients and the graph."
   ]
  },
  {
   "cell_type": "code",
   "execution_count": 11,
   "id": "b9bb828e",
   "metadata": {},
   "outputs": [],
   "source": [
    "#write your code and answer the questions"
   ]
  },
  {
   "cell_type": "markdown",
   "id": "7789514e",
   "metadata": {},
   "source": [
    "#### Q6. Plot scatter plot between area and the price of the properties. What information do you know from the graph?"
   ]
  },
  {
   "cell_type": "code",
   "execution_count": 12,
   "id": "1f05ff63",
   "metadata": {},
   "outputs": [],
   "source": [
    "#write your code and answer the questions"
   ]
  },
  {
   "cell_type": "markdown",
   "id": "a6c03f12",
   "metadata": {},
   "source": [
    "#### Q7. Plot the price of the properties in each type on boxplot. Make comparison between the distributions of the boxplots."
   ]
  },
  {
   "cell_type": "code",
   "execution_count": null,
   "id": "c46188fc",
   "metadata": {},
   "outputs": [],
   "source": [
    "#write your code and anwer the questions"
   ]
  },
  {
   "cell_type": "markdown",
   "id": "8217febe",
   "metadata": {},
   "source": [
    "#### Q8. Plot the price of the properties in each transaction on boxplot. What do you know from the boxplot?"
   ]
  },
  {
   "cell_type": "code",
   "execution_count": 13,
   "id": "c9ccaec2",
   "metadata": {},
   "outputs": [],
   "source": [
    "#write your code and answer the question"
   ]
  },
  {
   "cell_type": "markdown",
   "id": "b4bdd897",
   "metadata": {},
   "source": [
    "### 2. Data Preprocessing"
   ]
  },
  {
   "cell_type": "markdown",
   "id": "3e5f70b9",
   "metadata": {},
   "source": [
    "#### Q1. Find the redundancy records in the dataset and remove these records from the dataset."
   ]
  },
  {
   "cell_type": "code",
   "execution_count": 27,
   "id": "fdfd76a0",
   "metadata": {},
   "outputs": [
    {
     "data": {
      "text/plain": [
       "0       False\n",
       "1       False\n",
       "2       False\n",
       "3       False\n",
       "4       False\n",
       "        ...  \n",
       "1254    False\n",
       "1255    False\n",
       "1256    False\n",
       "1257    False\n",
       "1258    False\n",
       "Length: 1259, dtype: bool"
      ]
     },
     "execution_count": 27,
     "metadata": {},
     "output_type": "execute_result"
    }
   ],
   "source": [
    "#write your code and answer the question\n",
    "df.shape\n",
    "\n",
    "df.duplicated()"
   ]
  },
  {
   "cell_type": "code",
   "execution_count": 28,
   "id": "a1ea6dfe",
   "metadata": {},
   "outputs": [],
   "source": [
    "df = df.drop_duplicates()"
   ]
  },
  {
   "cell_type": "markdown",
   "id": "2960b44b",
   "metadata": {},
   "source": [
    "#### Q2. Suppose the extreme values of BHK and bathroom are outliers. Remove the records containing these outliers using Interquartile Range. Visualize the values before and after."
   ]
  },
  {
   "cell_type": "code",
   "execution_count": 29,
   "id": "411e5337",
   "metadata": {},
   "outputs": [
    {
     "ename": "KeyError",
     "evalue": "'bathroom'",
     "output_type": "error",
     "traceback": [
      "\u001b[0;31m---------------------------------------------------------------------------\u001b[0m",
      "\u001b[0;31mKeyError\u001b[0m                                  Traceback (most recent call last)",
      "File \u001b[0;32m/opt/miniconda3/envs/env_tharochan/lib/python3.10/site-packages/pandas/core/indexes/base.py:3805\u001b[0m, in \u001b[0;36mIndex.get_loc\u001b[0;34m(self, key)\u001b[0m\n\u001b[1;32m   3804\u001b[0m \u001b[38;5;28;01mtry\u001b[39;00m:\n\u001b[0;32m-> 3805\u001b[0m     \u001b[38;5;28;01mreturn\u001b[39;00m \u001b[38;5;28;43mself\u001b[39;49m\u001b[38;5;241;43m.\u001b[39;49m\u001b[43m_engine\u001b[49m\u001b[38;5;241;43m.\u001b[39;49m\u001b[43mget_loc\u001b[49m\u001b[43m(\u001b[49m\u001b[43mcasted_key\u001b[49m\u001b[43m)\u001b[49m\n\u001b[1;32m   3806\u001b[0m \u001b[38;5;28;01mexcept\u001b[39;00m \u001b[38;5;167;01mKeyError\u001b[39;00m \u001b[38;5;28;01mas\u001b[39;00m err:\n",
      "File \u001b[0;32mindex.pyx:167\u001b[0m, in \u001b[0;36mpandas._libs.index.IndexEngine.get_loc\u001b[0;34m()\u001b[0m\n",
      "File \u001b[0;32mindex.pyx:196\u001b[0m, in \u001b[0;36mpandas._libs.index.IndexEngine.get_loc\u001b[0;34m()\u001b[0m\n",
      "File \u001b[0;32mpandas/_libs/hashtable_class_helper.pxi:7081\u001b[0m, in \u001b[0;36mpandas._libs.hashtable.PyObjectHashTable.get_item\u001b[0;34m()\u001b[0m\n",
      "File \u001b[0;32mpandas/_libs/hashtable_class_helper.pxi:7089\u001b[0m, in \u001b[0;36mpandas._libs.hashtable.PyObjectHashTable.get_item\u001b[0;34m()\u001b[0m\n",
      "\u001b[0;31mKeyError\u001b[0m: 'bathroom'",
      "\nThe above exception was the direct cause of the following exception:\n",
      "\u001b[0;31mKeyError\u001b[0m                                  Traceback (most recent call last)",
      "Cell \u001b[0;32mIn[29], line 5\u001b[0m\n\u001b[1;32m      3\u001b[0m df[\u001b[38;5;124m'\u001b[39m\u001b[38;5;124mBHK\u001b[39m\u001b[38;5;124m'\u001b[39m]\u001b[38;5;241m.\u001b[39mplot(kind\u001b[38;5;241m=\u001b[39m\u001b[38;5;124m'\u001b[39m\u001b[38;5;124mbox\u001b[39m\u001b[38;5;124m'\u001b[39m)\n\u001b[1;32m      4\u001b[0m plt\u001b[38;5;241m.\u001b[39msubplot(\u001b[38;5;241m1\u001b[39m, \u001b[38;5;241m2\u001b[39m, \u001b[38;5;241m2\u001b[39m)\n\u001b[0;32m----> 5\u001b[0m \u001b[43mdf\u001b[49m\u001b[43m[\u001b[49m\u001b[38;5;124;43m'\u001b[39;49m\u001b[38;5;124;43mbathroom\u001b[39;49m\u001b[38;5;124;43m'\u001b[39;49m\u001b[43m]\u001b[49m\u001b[38;5;241m.\u001b[39mplot(kind\u001b[38;5;241m=\u001b[39m\u001b[38;5;124m'\u001b[39m\u001b[38;5;124mbox\u001b[39m\u001b[38;5;124m'\u001b[39m)\n\u001b[1;32m      6\u001b[0m plt\u001b[38;5;241m.\u001b[39mshow()\n\u001b[1;32m      8\u001b[0m \u001b[38;5;66;03m# Calculate IQR for 'BHK'\u001b[39;00m\n",
      "File \u001b[0;32m/opt/miniconda3/envs/env_tharochan/lib/python3.10/site-packages/pandas/core/frame.py:4102\u001b[0m, in \u001b[0;36mDataFrame.__getitem__\u001b[0;34m(self, key)\u001b[0m\n\u001b[1;32m   4100\u001b[0m \u001b[38;5;28;01mif\u001b[39;00m \u001b[38;5;28mself\u001b[39m\u001b[38;5;241m.\u001b[39mcolumns\u001b[38;5;241m.\u001b[39mnlevels \u001b[38;5;241m>\u001b[39m \u001b[38;5;241m1\u001b[39m:\n\u001b[1;32m   4101\u001b[0m     \u001b[38;5;28;01mreturn\u001b[39;00m \u001b[38;5;28mself\u001b[39m\u001b[38;5;241m.\u001b[39m_getitem_multilevel(key)\n\u001b[0;32m-> 4102\u001b[0m indexer \u001b[38;5;241m=\u001b[39m \u001b[38;5;28;43mself\u001b[39;49m\u001b[38;5;241;43m.\u001b[39;49m\u001b[43mcolumns\u001b[49m\u001b[38;5;241;43m.\u001b[39;49m\u001b[43mget_loc\u001b[49m\u001b[43m(\u001b[49m\u001b[43mkey\u001b[49m\u001b[43m)\u001b[49m\n\u001b[1;32m   4103\u001b[0m \u001b[38;5;28;01mif\u001b[39;00m is_integer(indexer):\n\u001b[1;32m   4104\u001b[0m     indexer \u001b[38;5;241m=\u001b[39m [indexer]\n",
      "File \u001b[0;32m/opt/miniconda3/envs/env_tharochan/lib/python3.10/site-packages/pandas/core/indexes/base.py:3812\u001b[0m, in \u001b[0;36mIndex.get_loc\u001b[0;34m(self, key)\u001b[0m\n\u001b[1;32m   3807\u001b[0m     \u001b[38;5;28;01mif\u001b[39;00m \u001b[38;5;28misinstance\u001b[39m(casted_key, \u001b[38;5;28mslice\u001b[39m) \u001b[38;5;129;01mor\u001b[39;00m (\n\u001b[1;32m   3808\u001b[0m         \u001b[38;5;28misinstance\u001b[39m(casted_key, abc\u001b[38;5;241m.\u001b[39mIterable)\n\u001b[1;32m   3809\u001b[0m         \u001b[38;5;129;01mand\u001b[39;00m \u001b[38;5;28many\u001b[39m(\u001b[38;5;28misinstance\u001b[39m(x, \u001b[38;5;28mslice\u001b[39m) \u001b[38;5;28;01mfor\u001b[39;00m x \u001b[38;5;129;01min\u001b[39;00m casted_key)\n\u001b[1;32m   3810\u001b[0m     ):\n\u001b[1;32m   3811\u001b[0m         \u001b[38;5;28;01mraise\u001b[39;00m InvalidIndexError(key)\n\u001b[0;32m-> 3812\u001b[0m     \u001b[38;5;28;01mraise\u001b[39;00m \u001b[38;5;167;01mKeyError\u001b[39;00m(key) \u001b[38;5;28;01mfrom\u001b[39;00m \u001b[38;5;21;01merr\u001b[39;00m\n\u001b[1;32m   3813\u001b[0m \u001b[38;5;28;01mexcept\u001b[39;00m \u001b[38;5;167;01mTypeError\u001b[39;00m:\n\u001b[1;32m   3814\u001b[0m     \u001b[38;5;66;03m# If we have a listlike key, _check_indexing_error will raise\u001b[39;00m\n\u001b[1;32m   3815\u001b[0m     \u001b[38;5;66;03m#  InvalidIndexError. Otherwise we fall through and re-raise\u001b[39;00m\n\u001b[1;32m   3816\u001b[0m     \u001b[38;5;66;03m#  the TypeError.\u001b[39;00m\n\u001b[1;32m   3817\u001b[0m     \u001b[38;5;28mself\u001b[39m\u001b[38;5;241m.\u001b[39m_check_indexing_error(key)\n",
      "\u001b[0;31mKeyError\u001b[0m: 'bathroom'"
     ]
    },
    {
     "data": {
      "image/png": "[encoded data removed]",
      "text/plain": [
       "<Figure size 1200x600 with 2 Axes>"
      ]
     },
     "metadata": {},
     "output_type": "display_data"
    }
   ],
   "source": [
    "plt.figure(figsize=(12, 6))\n",
    "plt.subplot(1, 2, 1)\n",
    "df['BHK'].plot(kind='box')\n",
    "plt.subplot(1, 2, 2)\n",
    "df['bathroom'].plot(kind='box')\n",
    "plt.show()\n",
    "\n",
    "# Calculate IQR for 'BHK'\n",
    "Q1 = df['BHK'].quantile(0.25)\n",
    "Q3 = df['BHK'].quantile(0.75)\n",
    "IQR = Q3 - Q1\n",
    "filter = (df['BHK'] >= Q1 - 1.5 * IQR) & (df['BHK'] <= Q3 + 1.5 *IQR)\n",
    "df = df.loc[filter]  \n",
    "\n",
    "# Calculate IQR for 'bathroom'\n",
    "Q1 = df['bathroom'].quantile(0.25)\n",
    "Q3 = df['bathroom'].quantile(0.75)\n",
    "IQR = Q3 - Q1\n",
    "filter = (df['bathroom'] >= Q1 - 1.5 * IQR) & (df['bathroom'] <= Q3 + 1.5 *IQR)\n",
    "df = df.loc[filter]  \n",
    "\n",
    "# Visualize after\n",
    "plt.figure(figsize=(12, 6))\n",
    "plt.subplot(1, 2, 1)\n",
    "df['BHK'].plot(kind='box')\n",
    "plt.subplot(1, 2, 2)\n",
    "df['bathroom'].plot(kind='box')\n",
    "plt.show()"
   ]
  },
  {
   "cell_type": "markdown",
   "id": "acd08a49",
   "metadata": {},
   "source": [
    "#### Q3. Missing Values"
   ]
  },
  {
   "cell_type": "code",
   "execution_count": 16,
   "id": "88960eff",
   "metadata": {},
   "outputs": [],
   "source": [
    "# count missing values for each column"
   ]
  },
  {
   "cell_type": "code",
   "execution_count": 17,
   "id": "d2894155",
   "metadata": {},
   "outputs": [],
   "source": [
    "# visualize missing values as percentage"
   ]
  },
  {
   "cell_type": "code",
   "execution_count": 18,
   "id": "6e4f7635",
   "metadata": {},
   "outputs": [],
   "source": [
    "# plot the percentage of missing values as a bar chart"
   ]
  },
  {
   "cell_type": "code",
   "execution_count": null,
   "id": "121d92a6",
   "metadata": {},
   "outputs": [],
   "source": [
    "# apply imputation"
   ]
  },
  {
   "cell_type": "markdown",
   "id": "148adfbb",
   "metadata": {},
   "source": [
    "#### Q4. Feature Encoding"
   ]
  },
  {
   "cell_type": "markdown",
   "id": "8cc7790f",
   "metadata": {},
   "source": [
    "apply feature encoding for categorical data and replace the original column with the numerical codes (0,1)"
   ]
  },
  {
   "cell_type": "code",
   "execution_count": 20,
   "id": "da556eba",
   "metadata": {},
   "outputs": [],
   "source": [
    "#write your code here"
   ]
  },
  {
   "cell_type": "markdown",
   "id": "1c8995fa",
   "metadata": {},
   "source": [
    "#### Q5. Feature Scaling"
   ]
  },
  {
   "cell_type": "markdown",
   "id": "ca3a791f",
   "metadata": {},
   "source": [
    "transform the numerical columns with feature scaling, replace the original columns with the scaled columns and display the scaled dataframe."
   ]
  },
  {
   "cell_type": "code",
   "execution_count": 22,
   "id": "ba771304",
   "metadata": {},
   "outputs": [],
   "source": [
    "#write your code here"
   ]
  },
  {
   "cell_type": "code",
   "execution_count": null,
   "id": "6f1911c4",
   "metadata": {},
   "outputs": [],
   "source": []
  }
 ],
 "metadata": {
  "kernelspec": {
   "display_name": "Python 3 (ipykernel)",
   "language": "python",
   "name": "python3"
  },
  "language_info": {
   "codemirror_mode": {
    "name": "ipython",
    "version": 3
   },
   "file_extension": ".py",
   "mimetype": "text/x-python",
   "name": "python",
   "nbconvert_exporter": "python",
   "pygments_lexer": "ipython3",
   "version": "3.10.14"
  }
 },
 "nbformat": 4,
 "nbformat_minor": 5
}
