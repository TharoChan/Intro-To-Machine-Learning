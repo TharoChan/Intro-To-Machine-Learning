{
 "cells": [
  {
   "cell_type": "markdown",
   "id": "58a32ed4",
   "metadata": {},
   "source": [
    "# Matplotlib"
   ]
  },
  {
   "cell_type": "code",
   "execution_count": 1,
   "id": "48b1e154",
   "metadata": {},
   "outputs": [
    {
     "data": {
      "text/plain": [
       "[<matplotlib.lines.Line2D at 0x117c69780>]"
      ]
     },
     "execution_count": 1,
     "metadata": {},
     "output_type": "execute_result"
    },
    {
     "data": {
      "image/png": "[encoded data removed]",
      "text/plain": [
       "<Figure size 640x480 with 1 Axes>"
      ]
     },
     "metadata": {},
     "output_type": "display_data"
    }
   ],
   "source": [
    "#We can plot easily in Python like in matlab, just import the relevant package!\n",
    "import matplotlib.pyplot as plt\n",
    "\n",
    "x_vals = [-2, -1, 0, 1, 2]\n",
    "y_vals = [-4, -2, 0, 2, 4]\n",
    "plt.plot(x_vals, y_vals)"
   ]
  },
  {
   "cell_type": "markdown",
   "id": "603b343c",
   "metadata": {},
   "source": [
    "https://matplotlib.org/stable/tutorials/pyplot.html#sphx-glr-tutorials-pyplot-py"
   ]
  },
  {
   "cell_type": "markdown",
   "id": "138c8be0",
   "metadata": {},
   "source": [
    "# Numpy - \"The Fundamental Package for Scientific Computing with Python\""
   ]
  },
  {
   "cell_type": "code",
   "execution_count": 2,
   "id": "0c8458e6",
   "metadata": {},
   "outputs": [],
   "source": [
    "import numpy as np\n",
    "#Here, we grab all of the functions and tools from the numpy package and store them in a local variable called np.\n",
    "#You can call that variable whatever you like, but 'np' is standard.\n",
    "\n"
   ]
  },
  {
   "cell_type": "markdown",
   "id": "83a3fb59",
   "metadata": {},
   "source": [
    "https://numpy.org/doc/stable/user/basics.creation.html"
   ]
  },
  {
   "cell_type": "code",
   "execution_count": 3,
   "id": "4128eff0",
   "metadata": {},
   "outputs": [
    {
     "name": "stdout",
     "output_type": "stream",
     "text": [
      "Multiply each element by 2\n",
      "NumPy: \n",
      "923 µs ± 50.5 µs per loop (mean ± std. dev. of 7 runs, 1,000 loops each)\n",
      "Python: \n",
      "29.7 ms ± 625 µs per loop (mean ± std. dev. of 7 runs, 10 loops each)\n"
     ]
    }
   ],
   "source": [
    "# NumPy Array\n",
    "my_arr = np.arange(1_000_000)\n",
    "# Python List\n",
    "my_list = list(range(1_000_000))\n",
    "\n",
    "print(\"Multiply each element by 2\")\n",
    "print(\"NumPy: \")\n",
    "%timeit my_arr2 = my_arr * 2\n",
    "\n",
    "print(\"Python: \")\n",
    "%timeit my_list2 = [x * 2 for x in my_list]"
   ]
  },
  {
   "cell_type": "markdown",
   "id": "e0e4336b",
   "metadata": {},
   "source": [
    "*NumPy* code block was executed seven times, with each run consisting of 1,000 loops. The average time it took to complete one loop (iteration) of the code block was approximately 1.03 milliseconds, with a standard deviation (variation) of about 196 microseconds between the runs.\n",
    "\n",
    "*Python* was executed seven times as well, but each run had only 10 loops. The average time for one loop of the code block was about 47 milliseconds, with a standard deviation of approximately 1.01 milliseconds between the runs."
   ]
  },
  {
   "cell_type": "code",
   "execution_count": 4,
   "id": "abf09359",
   "metadata": {},
   "outputs": [
    {
     "name": "stdout",
     "output_type": "stream",
     "text": [
      "1\n",
      "[10 10 10]\n",
      "[-8 -6 -4]\n",
      "[ 9 16 21]\n",
      "[0.11111111 0.25       0.42857143]\n",
      "A is:  [[1 2 3]\n",
      " [4 5 6]\n",
      " [7 8 9]]\n",
      "(3, 3)\n",
      "2\n"
     ]
    }
   ],
   "source": [
    "#numpy has arrays, which function similarly to python lists. \n",
    "a = np.array([1,2,3])\n",
    "b = np.array([9,8,7])\n",
    "\n",
    "#Access elements from them just like you would a regular list\n",
    "print(a[0])\n",
    "\n",
    "#Element-wise operations are a breeze!\n",
    "c = a + b\n",
    "d = a - b\n",
    "e = a * b\n",
    "f = a / b\n",
    "\n",
    "print(c)\n",
    "print(d)\n",
    "print(e)\n",
    "print(f)\n",
    "\n",
    "\n",
    "#What about multi-dimensional arrays? Matrices!\n",
    "\n",
    "#You just nest lists within lists! \n",
    "A = np.array( [[1,2,3], [4,5,6], [7,8,9]] )\n",
    "B = np.array( [[1,1,1], [2,2,2], [3,3,3]] )\n",
    "\n",
    "print('A is: ', A)\n",
    "print(A.shape) #returns a tuple with each index having the number of corresponding elements\n",
    "print(A.ndim) #to check dimension \n"
   ]
  },
  {
   "cell_type": "code",
   "execution_count": 5,
   "id": "8bb99e42",
   "metadata": {},
   "outputs": [
    {
     "data": {
      "text/plain": [
       "array([6. , 7.5, 8. , 0. , 1. ])"
      ]
     },
     "execution_count": 5,
     "metadata": {},
     "output_type": "execute_result"
    }
   ],
   "source": [
    "data = [6, 7.5, 8, 0, 1]\n",
    "arr = np.array(data)\n",
    "\n",
    "arr"
   ]
  },
  {
   "cell_type": "code",
   "execution_count": 6,
   "id": "f7fda0df",
   "metadata": {},
   "outputs": [
    {
     "data": {
      "text/plain": [
       "array([[1, 2, 3, 4],\n",
       "       [5, 6, 7, 8]])"
      ]
     },
     "execution_count": 6,
     "metadata": {},
     "output_type": "execute_result"
    }
   ],
   "source": [
    "#Nested sequences, like a list of equal-length lists, will be converted into a multidimensional array:\n",
    "data = [[1, 2, 3, 4], [5, 6, 7, 8]]\n",
    "arr = np.array(data)\n",
    "\n",
    "arr"
   ]
  },
  {
   "cell_type": "code",
   "execution_count": 7,
   "id": "289fe7a9",
   "metadata": {},
   "outputs": [
    {
     "data": {
      "text/plain": [
       "array([0., 0., 0., 0., 0., 0., 0., 0., 0., 0.])"
      ]
     },
     "execution_count": 7,
     "metadata": {},
     "output_type": "execute_result"
    }
   ],
   "source": [
    "# Create an array of zero values with a specified shape\n",
    "arr = np.zeros(10)\n",
    "arr"
   ]
  },
  {
   "cell_type": "code",
   "execution_count": 8,
   "id": "76977e1f",
   "metadata": {},
   "outputs": [
    {
     "name": "stdout",
     "output_type": "stream",
     "text": [
      "[[1. 1. 1. 1. 1. 1. 1. 1. 1. 1.]\n",
      " [1. 1. 1. 1. 1. 1. 1. 1. 1. 1.]\n",
      " [1. 1. 1. 1. 1. 1. 1. 1. 1. 1.]]\n",
      "3\n"
     ]
    }
   ],
   "source": [
    "# Create an array of one with a specified shape\n",
    "arr = np.ones((3,10))\n",
    "print(arr)\n",
    "print(arr.shape[0])"
   ]
  },
  {
   "cell_type": "code",
   "execution_count": 9,
   "id": "630f797a",
   "metadata": {},
   "outputs": [
    {
     "data": {
      "text/plain": [
       "array([[0., 0., 1., 0.],\n",
       "       [0., 1., 1., 1.]])"
      ]
     },
     "execution_count": 9,
     "metadata": {},
     "output_type": "execute_result"
    }
   ],
   "source": [
    "# Create an array without initialized any values with a specified shape\n",
    "arr = np.empty((2,4))\n",
    "arr"
   ]
  },
  {
   "cell_type": "code",
   "execution_count": 10,
   "id": "d2093841",
   "metadata": {},
   "outputs": [
    {
     "data": {
      "text/plain": [
       "array([ 0,  1,  2,  3,  4,  5,  6,  7,  8,  9, 10, 11, 12, 13, 14])"
      ]
     },
     "execution_count": 10,
     "metadata": {},
     "output_type": "execute_result"
    }
   ],
   "source": [
    "#numpy.arange is an array-valued version of the built-in Python range function:\n",
    "arr = np.arange(15)\n",
    "arr"
   ]
  },
  {
   "cell_type": "code",
   "execution_count": 11,
   "id": "58c05dbb",
   "metadata": {},
   "outputs": [
    {
     "data": {
      "text/plain": [
       "array([[8, 8, 8, 8],\n",
       "       [8, 8, 8, 8]])"
      ]
     },
     "execution_count": 11,
     "metadata": {},
     "output_type": "execute_result"
    }
   ],
   "source": [
    "arr = np.full((2,4),8)\n",
    "arr"
   ]
  },
  {
   "cell_type": "code",
   "execution_count": 61,
   "id": "d77cf165",
   "metadata": {},
   "outputs": [
    {
     "data": {
      "text/plain": [
       "array([[0.2007642 , 0.21288649, 0.04770481, 0.23930551, 0.62903652,\n",
       "        0.11420234],\n",
       "       [0.12149087, 0.22089466, 0.00354065, 0.03798311, 0.34499445,\n",
       "        0.56783133]])"
      ]
     },
     "execution_count": 61,
     "metadata": {},
     "output_type": "execute_result"
    }
   ],
   "source": [
    "arr = np.random.random((2,6))\n",
    "arr"
   ]
  },
  {
   "cell_type": "markdown",
   "id": "1da36ad7",
   "metadata": {},
   "source": [
    "#### Number of Dimensions/Shape/Size"
   ]
  },
  {
   "cell_type": "code",
   "execution_count": 13,
   "id": "63a07261",
   "metadata": {},
   "outputs": [
    {
     "name": "stdout",
     "output_type": "stream",
     "text": [
      "2\n",
      "(2, 4)\n",
      "8\n"
     ]
    }
   ],
   "source": [
    "# The number of\n",
    "data = [[1, 2, 3, 4], [5, 6, 7, 8]]\n",
    "arr = np.array(data)\n",
    "print(arr.ndim)\n",
    "print(arr.shape)\n",
    "print(arr.size)"
   ]
  },
  {
   "cell_type": "code",
   "execution_count": 14,
   "id": "a8ac54d3",
   "metadata": {},
   "outputs": [
    {
     "name": "stdout",
     "output_type": "stream",
     "text": [
      "[[1. 1. 1. 1. 1. 1.]\n",
      " [1. 1. 1. 1. 1. 1.]\n",
      " [1. 1. 1. 1. 1. 1.]\n",
      " [1. 1. 1. 1. 1. 1.]]\n",
      "2\n",
      "(4, 6)\n",
      "24\n"
     ]
    }
   ],
   "source": [
    "arr = np.ones((4,6))\n",
    "print(arr)\n",
    "print(arr.ndim)\n",
    "print(arr.shape)\n",
    "print(arr.size)"
   ]
  },
  {
   "cell_type": "markdown",
   "id": "261026cd",
   "metadata": {},
   "source": [
    "#### Data Type"
   ]
  },
  {
   "cell_type": "code",
   "execution_count": 15,
   "id": "d66ea302",
   "metadata": {},
   "outputs": [
    {
     "name": "stdout",
     "output_type": "stream",
     "text": [
      "float64\n"
     ]
    }
   ],
   "source": [
    "print(arr.dtype)"
   ]
  },
  {
   "cell_type": "code",
   "execution_count": 16,
   "id": "1d094fb9",
   "metadata": {},
   "outputs": [
    {
     "name": "stdout",
     "output_type": "stream",
     "text": [
      "[[1. 2. 3.]\n",
      " [4. 5. 6.]\n",
      " [7. 8. 9.]]\n",
      "float64\n"
     ]
    }
   ],
   "source": [
    "arr = np.array([[1,2,3],[4,5,6],[7,8,9]], dtype=np.float64)\n",
    "print(arr)\n",
    "print(arr.dtype)"
   ]
  },
  {
   "cell_type": "code",
   "execution_count": 17,
   "id": "bbe1b706",
   "metadata": {},
   "outputs": [
    {
     "name": "stdout",
     "output_type": "stream",
     "text": [
      "[[1 2 3]\n",
      " [4 5 6]\n",
      " [7 8 9]]\n",
      "int32\n"
     ]
    }
   ],
   "source": [
    "arr = np.array([[1,2,3],[4,5,6],[7,8,9]], dtype=np.int32)\n",
    "print(arr)\n",
    "print(arr.dtype)"
   ]
  },
  {
   "cell_type": "markdown",
   "id": "c6764095",
   "metadata": {},
   "source": [
    "### Array Slicing"
   ]
  },
  {
   "cell_type": "code",
   "execution_count": 37,
   "id": "f08bea60",
   "metadata": {},
   "outputs": [
    {
     "name": "stdout",
     "output_type": "stream",
     "text": [
      "[0 1 2 3 4 5 6 7 8 9]\n",
      "[0 1 2 3 4 5 6 7 8 9]\n",
      "[0 1 2 3 4]\n",
      "[0 1 2 3 4]\n",
      "[5 6 7]\n"
     ]
    }
   ],
   "source": [
    "arr = np.arange(10)\n",
    "print(arr)\n",
    "\n",
    "print(arr[:])\n",
    "\n",
    "print(arr[0:5])\n",
    "print(arr[:5])\n",
    "print(arr[5:8])"
   ]
  },
  {
   "cell_type": "code",
   "execution_count": 19,
   "id": "cd85df84",
   "metadata": {},
   "outputs": [
    {
     "name": "stdout",
     "output_type": "stream",
     "text": [
      "[5 6 7]\n",
      "[12 12 12]\n",
      "[ 0  1  2  3  4 12 12 12  8  9]\n",
      "[   12 12345    12]\n",
      "[    0     1     2     3     4    12 12345    12     8     9]\n"
     ]
    }
   ],
   "source": [
    "#Any change make to the slice array, it will affect the original array \n",
    "# Slice the array from position 5 to 7 and assign the elements to arr_slice\n",
    "arr_slice = arr[5:8] # Create a view\n",
    "print(arr_slice)\n",
    "\n",
    "# Modify the elements in arr_slices to 12\n",
    "arr_slice[:] = 12\n",
    "print(arr_slice)\n",
    "\n",
    "# It affects the orignal arr\n",
    "print(arr)\n",
    "\n",
    "arr_slice[1] = 12345\n",
    "print(arr_slice)\n",
    "\n",
    "print(arr)"
   ]
  },
  {
   "cell_type": "code",
   "execution_count": null,
   "id": "69c9ab5f",
   "metadata": {},
   "outputs": [],
   "source": []
  }
 ],
 "metadata": {
  "kernelspec": {
   "display_name": "Python 3 (ipykernel)",
   "language": "python",
   "name": "python3"
  },
  "language_info": {
   "codemirror_mode": {
    "name": "ipython",
    "version": 3
   },
   "file_extension": ".py",
   "mimetype": "text/x-python",
   "name": "python",
   "nbconvert_exporter": "python",
   "pygments_lexer": "ipython3",
   "version": "3.9.6"
  }
 },
 "nbformat": 4,
 "nbformat_minor": 5
}
