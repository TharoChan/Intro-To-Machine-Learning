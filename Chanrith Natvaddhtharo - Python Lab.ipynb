{
 "cells": [
  {
   "cell_type": "markdown",
   "id": "af119ebf",
   "metadata": {},
   "source": [
    "# Lab 1a - Python Programming "
   ]
  },
  {
   "cell_type": "markdown",
   "id": "ad25368e",
   "metadata": {},
   "source": [
    "To do: Check your Python version"
   ]
  },
  {
   "cell_type": "code",
   "execution_count": 1,
   "id": "5efa4af2",
   "metadata": {},
   "outputs": [],
   "source": [
    "#write your code here"
   ]
  },
  {
   "cell_type": "markdown",
   "id": "a1a16f7b",
   "metadata": {},
   "source": [
    "1.\tWrite a program that accepts an integer n and computes the value of n+nn+nnn. Use statement input to read value from the console.\n",
    "    - E.g.\n",
    "        - Enter an integer: 5\n",
    "        - Sum of 5 + 55 + 555: 615"
   ]
  },
  {
   "cell_type": "code",
   "execution_count": 4,
   "id": "f99df52a",
   "metadata": {},
   "outputs": [
    {
     "name": "stdout",
     "output_type": "stream",
     "text": [
      "Sum of 5 + 55 + 555: 615\n"
     ]
    }
   ],
   "source": [
    "n = input(\"Enter an integer: \")\n",
    "\n",
    "n1 = int(n)\n",
    "n2 = int(n * 2)\n",
    "n3 = int(n * 3)\n",
    "\n",
    "result = n1 + n2 + n3\n",
    "\n",
    "print(f\"Sum of {n1} + {n2} + {n3}: {result}\")\n"
   ]
  },
  {
   "cell_type": "markdown",
   "id": "d85f4f33",
   "metadata": {},
   "source": [
    "2.\tWrite a program to convert time (hh:mn:ss) to seconds.\n",
    "    - E.g.\n",
    "        - Enter hour: 5\n",
    "        - Enter minute: 45\n",
    "        - Enter second: 50\n",
    "        - It is 20750 seconds\n"
   ]
  },
  {
   "cell_type": "code",
   "execution_count": 5,
   "id": "104d830f",
   "metadata": {},
   "outputs": [
    {
     "name": "stdout",
     "output_type": "stream",
     "text": [
      "It is 20750 seconds\n"
     ]
    }
   ],
   "source": [
    "hours = int(input(\"Enter hour: \"))\n",
    "minutes = int(input(\"Enter minute: \"))\n",
    "seconds = int(input(\"Enter second: \"))\n",
    "\n",
    "total = (hours * 3600) + (minutes * 60) + seconds\n",
    "\n",
    "print(f\"It is {total} seconds\")\n"
   ]
  },
  {
   "cell_type": "markdown",
   "id": "0087f638",
   "metadata": {},
   "source": [
    "3.\tWrite a program which accepts two decimal numbers and compares them.\n",
    "    - E.g.\n",
    "        - Enter first number: 5\n",
    "        - Enter second number: 45\n",
    "        - 45 is greater than 5"
   ]
  },
  {
   "cell_type": "code",
   "execution_count": 72,
   "id": "cbc0dfd3",
   "metadata": {},
   "outputs": [
    {
     "name": "stdout",
     "output_type": "stream",
     "text": [
      "45 is greater than 5\n"
     ]
    }
   ],
   "source": [
    "num1 = int(input(\"Enter first number: \"))\n",
    "num2 = int(input(\"Enter second number: \"))\n",
    "\n",
    "if num1 > num2:\n",
    "    print(f\"{num1} is greater than {num2}\")\n",
    "elif num1 < num2:\n",
    "    print(f\"{num2} is greater than {num1}\")\n",
    "else:\n",
    "    print(f\"Both numbers are equal\")\n"
   ]
  },
  {
   "cell_type": "markdown",
   "id": "cae31f8b",
   "metadata": {},
   "source": [
    "4.\tWrite a program that takes a string as an input and displays it in lower case and upper case.\n",
    "    - E.g.\n",
    "        - Enter a string: English\n",
    "        - Uppercase: ENGLISH\n",
    "        - Lowercase: english"
   ]
  },
  {
   "cell_type": "code",
   "execution_count": 7,
   "id": "246a1e87",
   "metadata": {},
   "outputs": [
    {
     "name": "stdout",
     "output_type": "stream",
     "text": [
      "Uppercase: HELLO WORLD\n",
      "Lowercase: hello world\n"
     ]
    }
   ],
   "source": [
    "text = input(\"Enter a string: \")\n",
    "\n",
    "uppercase_text = text.upper()\n",
    "\n",
    "lowercase_text = text.lower()\n",
    "\n",
    "print(f\"Uppercase: {uppercase_text}\")\n",
    "print(f\"Lowercase: {lowercase_text}\")\n"
   ]
  },
  {
   "cell_type": "markdown",
   "id": "1a8bdf19",
   "metadata": {},
   "source": [
    "5. Write a function to changes a string to a new string where the first and the last character have been exchanged.\n",
    "    - E.g.\t     \n",
    "        - ‘abcd’   ⟶   ‘dbca’\n",
    "        - ‘1234’   ⟶   ‘4231’"
   ]
  },
  {
   "cell_type": "code",
   "execution_count": 8,
   "id": "b274e8aa",
   "metadata": {},
   "outputs": [
    {
     "name": "stdout",
     "output_type": "stream",
     "text": [
      "dbca\n",
      "4231\n"
     ]
    }
   ],
   "source": [
    "def exchange(s):\n",
    "    if len(s) < 2:\n",
    "        return s\n",
    "    return s[-1] + s[1:-1] + s[0]\n",
    "\n",
    "print(exchange('abcd'))  \n",
    "print(exchange('1234')) \n",
    "   \n"
   ]
  },
  {
   "cell_type": "markdown",
   "id": "20254817",
   "metadata": {},
   "source": [
    "6.\tWrite a function to count and display the occurrences of each word in a given sentence.\n",
    "    - E.g.\n",
    "        - Sentence: 'the quick brown fox jumps over the lazy dog.'\n",
    "        - ‘the’: 2\n",
    "        - ‘quick’: 1\n",
    "        - ‘brown’: 1\n",
    "        - ‘fox’: 1\n",
    "        - ‘jumps’: 1\n",
    "        - ‘over’: 1\n",
    "        - ‘lazy’: 1\n",
    "        - ‘dog’: 1"
   ]
  },
  {
   "cell_type": "code",
   "execution_count": 70,
   "id": "022ff96d",
   "metadata": {},
   "outputs": [
    {
     "name": "stdout",
     "output_type": "stream",
     "text": [
      "Sentence: 'the quick brown fox jumps over the lazy dog.'\n",
      "'the': 2\n",
      "'quick': 1\n",
      "'brown': 1\n",
      "'fox': 1\n",
      "'jumps': 1\n",
      "'over': 1\n",
      "'lazy': 1\n",
      "'dog': 1\n"
     ]
    }
   ],
   "source": [
    "def count_occurrences(sentence):\n",
    "    sentence = sentence.lower().replace('.', '')\n",
    "    words = sentence.split()\n",
    "    word_count = {}\n",
    "\n",
    "    for word in words:\n",
    "        if word in word_count:\n",
    "            word_count[word] += 1\n",
    "        else:\n",
    "            word_count[word] = 1\n",
    "\n",
    "    for word, count in word_count.items():\n",
    "        print(f\"'{word}': {count}\")\n",
    "\n",
    "text = 'the quick brown fox jumps over the lazy dog.'\n",
    "print(f\"Sentence: '{text}'\")\n",
    "count_occurrences(text)\n"
   ]
  },
  {
   "cell_type": "markdown",
   "id": "126a1ef6",
   "metadata": {},
   "source": [
    "7. Write a function which accepts a string and display it in reverse order. \n",
    "    - E.g.\n",
    "        - String: “hello”\n",
    "        - Reverse of “hello”: “olleh”"
   ]
  },
  {
   "cell_type": "code",
   "execution_count": 60,
   "id": "62194930",
   "metadata": {},
   "outputs": [
    {
     "name": "stdout",
     "output_type": "stream",
     "text": [
      "Reverse of 'hello': 'olleh'\n"
     ]
    }
   ],
   "source": [
    "def reverse_string(s):\n",
    "    return s[::-1]\n",
    "\n",
    "text = \"hello\"\n",
    "reversed_string = reverse_string(text)\n",
    "print(f\"Reverse of '{text}': '{reversed_string}'\")\n"
   ]
  },
  {
   "cell_type": "markdown",
   "id": "8be1bf46",
   "metadata": {},
   "source": [
    "8.\tWrite a function which takes as an input a list of numbers and find the unique numbers from the list.\n",
    "    - E.g.\n",
    "        - List = [2, 3.5, 5, 2, 3, 5, 8, 8, 5, 2]\n",
    "        - Unique numbers: [2, 3, 3.5, 5, 8]"
   ]
  },
  {
   "cell_type": "code",
   "execution_count": 67,
   "id": "1aca91db",
   "metadata": {},
   "outputs": [
    {
     "name": "stdout",
     "output_type": "stream",
     "text": [
      "List = [2, 3.5, 5, 2, 3, 5, 8, 8, 5, 2]\n",
      "Unique numbers: [2, 3.5, 5, 3, 8]\n"
     ]
    }
   ],
   "source": [
    "def unique(num):\n",
    "    unique_list = []\n",
    "    for x in num:\n",
    "        if x not in unique_list:\n",
    "            unique_list.append(x)\n",
    "    return unique_list\n",
    "\n",
    "list = [2, 3.5, 5, 2, 3, 5, 8, 8, 5, 2]\n",
    "print(f\"List = {list}\")\n",
    "print(f\"Unique numbers: {unique(list)}\")"
   ]
  },
  {
   "cell_type": "markdown",
   "id": "db2cf1f2",
   "metadata": {},
   "source": [
    "9.\tWrite a function which accepts a list of integer numbers and returns the list of odd and even numbers.\n",
    "    - E.g.\n",
    "        - Sample numbers: [2, 5, 3, 8, 12]\n",
    "        - Odd numbers: [5, 3]\n",
    "        - Even numbers: [2, 8, 12]"
   ]
  },
  {
   "cell_type": "code",
   "execution_count": 28,
   "id": "697fcd03",
   "metadata": {},
   "outputs": [
    {
     "name": "stdout",
     "output_type": "stream",
     "text": [
      "Sample numbers: [2, 5, 3, 8, 12]\n",
      "Odd numbers: [5, 3]\n",
      "Even numbers: [2, 8, 12]\n"
     ]
    }
   ],
   "source": [
    "def even_odd(num):\n",
    "    even = [num for num in num if num % 2 == 0] \n",
    "    odd = [num for num in num if num % 2 != 0]  \n",
    "    return even, odd    \n",
    "\n",
    "sample_numbers = [2, 5, 3, 8, 12]\n",
    "even, odd = even_odd(sample_numbers)\n",
    "print(f\"Sample numbers: {sample_numbers}\")\n",
    "print(f\"Odd numbers: {odd}\")\n",
    "print(f\"Even numbers: {even}\")"
   ]
  },
  {
   "cell_type": "markdown",
   "id": "c81b00a5",
   "metadata": {},
   "source": [
    "10. Create a dictionary that stores the prices of items in a store and a dictionary that stores items in a shopping cart. Write a function that calculates the total cost of items in a shopping cart.\n",
    "    - Ex: \n",
    "        - 5 book is 5 $, 1 laptop is 10000 $\n",
    "        - ==> Total: 10005.0 $"
   ]
  },
  {
   "cell_type": "code",
   "execution_count": 34,
   "id": "ee40bd74",
   "metadata": {},
   "outputs": [
    {
     "name": "stdout",
     "output_type": "stream",
     "text": [
      "Total: 10005 $\n"
     ]
    }
   ],
   "source": [
    "store_prices = {\n",
    "    \"book\": 1,\n",
    "    \"laptop\": 10000,\n",
    "}\n",
    "\n",
    "shopping_cart = {\n",
    "    \"book\": 5,  \n",
    "    \"laptop\": 1,  \n",
    "}\n",
    "\n",
    "def total_cost(store_prices, shopping_cart):\n",
    "    total_cost = 0\n",
    "    for item, quantity in shopping_cart.items():\n",
    "        if item in store_prices:\n",
    "            total_cost += store_prices[item] * quantity\n",
    "    return total_cost\n",
    "\n",
    "total= total_cost(store_prices, shopping_cart)\n",
    "print(f\"Total: {total} $\")\n"
   ]
  }
 ],
 "metadata": {
  "kernelspec": {
   "display_name": "Python 3 (ipykernel)",
   "language": "python",
   "name": "python3"
  },
  "language_info": {
   "codemirror_mode": {
    "name": "ipython",
    "version": 3
   },
   "file_extension": ".py",
   "mimetype": "text/x-python",
   "name": "python",
   "nbconvert_exporter": "python",
   "pygments_lexer": "ipython3",
   "version": "3.10.14"
  }
 },
 "nbformat": 4,
 "nbformat_minor": 5
}
